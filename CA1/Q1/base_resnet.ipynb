{
  "nbformat": 4,
  "nbformat_minor": 0,
  "metadata": {
    "colab": {
      "provenance": [],
      "gpuType": "T4"
    },
    "kernelspec": {
      "name": "python3",
      "display_name": "Python 3"
    },
    "language_info": {
      "name": "python"
    },
    "accelerator": "GPU"
  },
  "cells": [
    {
      "cell_type": "code",
      "source": [
        "import torch\n",
        "import torch.nn as nn\n",
        "import torchvision\n",
        "import torchvision.transforms as transforms\n",
        "from torch.utils.data import DataLoader\n",
        "import torch.optim as optim\n",
        "import torch.nn.functional as F\n",
        "import matplotlib.pyplot as plt"
      ],
      "metadata": {
        "id": "GMcHXyd_Xkjd"
      },
      "execution_count": 1,
      "outputs": []
    },
    {
      "cell_type": "markdown",
      "source": [
        "### Transform for SVHN and MNIST (Convert MNIST to 3 channels)"
      ],
      "metadata": {
        "id": "VkhCW3sMFjJd"
      }
    },
    {
      "cell_type": "code",
      "source": [
        "transform_svhn = transforms.Compose([\n",
        "    transforms.Resize((32, 32)),\n",
        "    transforms.ToTensor(),\n",
        "    transforms.Normalize((0.5, 0.5, 0.5), (0.5, 0.5, 0.5))\n",
        "])\n",
        "\n",
        "transform_mnist = transforms.Compose([\n",
        "    transforms.Resize((32, 32)),\n",
        "    transforms.Grayscale(num_output_channels=3),\n",
        "    transforms.ToTensor(),\n",
        "    transforms.Normalize((0.5,), (0.5,))\n",
        "])"
      ],
      "metadata": {
        "id": "rqei8WkDZRy1"
      },
      "execution_count": 2,
      "outputs": []
    },
    {
      "cell_type": "markdown",
      "source": [
        "### Loading datasets"
      ],
      "metadata": {
        "id": "0w_ekwpPFnQk"
      }
    },
    {
      "cell_type": "code",
      "source": [
        "svhn_train = torchvision.datasets.SVHN(root='./data', split='train', download=True, transform=transform_svhn)\n",
        "svhn_test = torchvision.datasets.SVHN(root='./data', split='test', download=True, transform=transform_svhn)\n",
        "mnist_test = torchvision.datasets.MNIST(root='./data', train=False, download=True, transform=transform_mnist)\n"
      ],
      "metadata": {
        "id": "xfVq7mULZeRy"
      },
      "execution_count": null,
      "outputs": []
    },
    {
      "cell_type": "markdown",
      "source": [
        "### Data loaders"
      ],
      "metadata": {
        "id": "FfU6faBYFrFU"
      }
    },
    {
      "cell_type": "code",
      "source": [
        "train_loader = DataLoader(svhn_train, batch_size=64, shuffle=True)\n",
        "svhn_test_loader = DataLoader(svhn_test, batch_size=64, shuffle=False)\n",
        "mnist_test_loader = DataLoader(mnist_test, batch_size=64, shuffle=False)\n"
      ],
      "metadata": {
        "id": "Jl4kK8geZeKC"
      },
      "execution_count": 4,
      "outputs": []
    },
    {
      "cell_type": "markdown",
      "source": [
        "### Model"
      ],
      "metadata": {
        "id": "I82IaTRcFtSe"
      }
    },
    {
      "cell_type": "code",
      "source": [
        "class BasicBlock(nn.Module):\n",
        "    expansion = 1\n",
        "\n",
        "    def __init__(self, in_channels, out_channels, stride=1):\n",
        "        super(BasicBlock, self).__init__()\n",
        "        # First convolution\n",
        "        self.conv1 = nn.Conv2d(in_channels, out_channels, kernel_size=3, stride=stride, padding=1, bias=False)\n",
        "        self.bn1 = nn.BatchNorm2d(out_channels)\n",
        "        # Second convolution\n",
        "        self.conv2 = nn.Conv2d(out_channels, out_channels, kernel_size=3, stride=1, padding=1, bias=False)\n",
        "        self.bn2 = nn.BatchNorm2d(out_channels)\n",
        "\n",
        "        self.shortcut = nn.Sequential()\n",
        "        if stride != 1 or in_channels != self.expansion * out_channels:\n",
        "            self.shortcut = nn.Sequential(\n",
        "                nn.Conv2d(in_channels, self.expansion * out_channels, kernel_size=1, stride=stride, bias=False),\n",
        "                nn.BatchNorm2d(self.expansion * out_channels)\n",
        "            )\n",
        "\n",
        "    def forward(self, x):\n",
        "        out = F.relu(self.bn1(self.conv1(x)))\n",
        "        out = self.bn2(self.conv2(out))\n",
        "        out += self.shortcut(x)\n",
        "        out = F.relu(out)\n",
        "        return out\n",
        "\n",
        "class ResNet(nn.Module):\n",
        "    def __init__(self, block, num_blocks, num_classes=1000):\n",
        "        super(ResNet, self).__init__()\n",
        "        self.in_channels = 64\n",
        "        self.conv1 = nn.Conv2d(3, 64, kernel_size=7, stride=2, padding=3, bias=False)\n",
        "        self.bn1 = nn.BatchNorm2d(64)\n",
        "        self.layer1 = self._make_layer(block, 64, num_blocks[0], stride=1)\n",
        "        self.layer2 = self._make_layer(block, 128, num_blocks[1], stride=2)\n",
        "        self.layer3 = self._make_layer(block, 256, num_blocks[2], stride=2)\n",
        "        self.layer4 = self._make_layer(block, 512, num_blocks[3], stride=2)\n",
        "        self.linear = nn.Linear(512 * block.expansion, num_classes)\n",
        "\n",
        "    def _make_layer(self, block, out_channels, num_blocks, stride):\n",
        "        strides = [stride] + [1]*(num_blocks-1)\n",
        "        layers = []\n",
        "        for stride in strides:\n",
        "            layers.append(block(self.in_channels, out_channels, stride))\n",
        "            self.in_channels = out_channels * block.expansion\n",
        "        return nn.Sequential(*layers)\n",
        "\n",
        "    def forward(self, x):\n",
        "      out = F.relu(self.bn1(self.conv1(x)))\n",
        "      out = F.max_pool2d(out, kernel_size=3, stride=2, padding=1)\n",
        "      out = self.layer1(out)\n",
        "      out = self.layer2(out)\n",
        "      out = self.layer3(out)\n",
        "      out = self.layer4(out)\n",
        "      out = F.adaptive_avg_pool2d(out, (1, 1))  # پولینگ میانگین سراسری\n",
        "      out = out.view(out.size(0), -1)\n",
        "      out = self.linear(out)\n",
        "      return out\n",
        "\n",
        "\n",
        "def ResNet18():\n",
        "    return ResNet(BasicBlock, [2, 2, 2, 2])\n",
        "\n",
        "# Move the model to GPU if available\n",
        "device = torch.device(\"cuda\" if torch.cuda.is_available() else \"cpu\")\n",
        "model = ResNet18().to(device)\n"
      ],
      "metadata": {
        "id": "2QTjbmP6Z0wT"
      },
      "execution_count": 5,
      "outputs": []
    },
    {
      "cell_type": "markdown",
      "source": [
        "### Model, optimizer, and criterion setup"
      ],
      "metadata": {
        "id": "I1d7zMvcFyc9"
      }
    },
    {
      "cell_type": "code",
      "source": [
        "model = ResNet18().to(device)\n",
        "optimizer = optim.SGD(model.parameters(), lr=0.01, momentum=0.9)\n",
        "criterion = nn.CrossEntropyLoss()"
      ],
      "metadata": {
        "id": "ELC1oGWDZi2y"
      },
      "execution_count": 6,
      "outputs": []
    },
    {
      "cell_type": "markdown",
      "source": [
        "### Training Loop"
      ],
      "metadata": {
        "id": "u2XsdkFbF03d"
      }
    },
    {
      "cell_type": "code",
      "source": [
        "num_epochs = 10  # Set the number of epochs\n",
        "losses = []  # To store loss after each epoch\n",
        "\n",
        "for epoch in range(num_epochs):\n",
        "    model.train()\n",
        "    running_loss = 0.0\n",
        "    for images, labels in train_loader:\n",
        "        images, labels = images.to(device), labels.to(device)\n",
        "        optimizer.zero_grad()\n",
        "        outputs = model(images)\n",
        "        loss = criterion(outputs, labels)\n",
        "        loss.backward()\n",
        "        optimizer.step()\n",
        "\n",
        "        running_loss += loss.item()\n",
        "\n",
        "    epoch_loss = running_loss / len(train_loader)\n",
        "    losses.append(epoch_loss)\n",
        "    print(f\"Epoch {epoch+1}/{num_epochs}, Loss: {epoch_loss:.4f}\")\n",
        "\n",
        "# Plotting the loss\n",
        "plt.figure(figsize=(10, 5))\n",
        "plt.plot(range(1, num_epochs+1), losses, marker='o', label='Training Loss')\n",
        "plt.title('Epoch vs Loss')\n",
        "plt.xlabel('Epoch')\n",
        "plt.ylabel('Loss')\n",
        "plt.legend()\n",
        "plt.grid(True)\n",
        "plt.show()"
      ],
      "metadata": {
        "colab": {
          "base_uri": "https://localhost:8080/",
          "height": 661
        },
        "id": "1aRcBFZmZiza",
        "outputId": "c71fe00c-222a-43a7-fb66-ea7a0ab27a9c"
      },
      "execution_count": 7,
      "outputs": [
        {
          "output_type": "stream",
          "name": "stdout",
          "text": [
            "Epoch 1/10, Loss: 0.9335\n",
            "Epoch 2/10, Loss: 0.3773\n",
            "Epoch 3/10, Loss: 0.2965\n",
            "Epoch 4/10, Loss: 0.2438\n",
            "Epoch 5/10, Loss: 0.2085\n",
            "Epoch 6/10, Loss: 0.1772\n",
            "Epoch 7/10, Loss: 0.1501\n",
            "Epoch 8/10, Loss: 0.1290\n",
            "Epoch 9/10, Loss: 0.1084\n",
            "Epoch 10/10, Loss: 0.0934\n"
          ]
        },
        {
          "output_type": "display_data",
          "data": {
            "text/plain": [
              "<Figure size 1000x500 with 1 Axes>"
            ],
            "image/png": "[encoded data removed]"
          },
          "metadata": {}
        }
      ]
    },
    {
      "cell_type": "markdown",
      "source": [
        "### Evaluation function"
      ],
      "metadata": {
        "id": "u7dg510VF7hd"
      }
    },
    {
      "cell_type": "code",
      "source": [
        "def evaluate_model(loader):\n",
        "    model.eval()\n",
        "    correct = 0\n",
        "    total = 0\n",
        "    with torch.no_grad():\n",
        "        for images, labels in loader:\n",
        "            images, labels = images.to(device), labels.to(device)\n",
        "            outputs = model(images)\n",
        "            _, predicted = torch.max(outputs.data, 1)\n",
        "            total += labels.size(0)\n",
        "            correct += (predicted == labels).sum().item()\n",
        "    return 100 * correct / total\n",
        "\n",
        "# Evaluate on SVHN Test Set\n",
        "accuracy_svhn = evaluate_model(svhn_test_loader)\n",
        "print(f'Accuracy on SVHN Test Set: {accuracy_svhn}%')\n",
        "\n",
        "# Evaluate on MNIST Test Set\n",
        "accuracy_mnist = evaluate_model(mnist_test_loader)\n",
        "print(f'Accuracy on MNIST Test Set: {accuracy_mnist}%')"
      ],
      "metadata": {
        "colab": {
          "base_uri": "https://localhost:8080/"
        },
        "id": "XFK7Csz8Zuah",
        "outputId": "dbf8aa3d-cb62-46ab-b583-3a9908e7ab83"
      },
      "execution_count": 8,
      "outputs": [
        {
          "output_type": "stream",
          "name": "stdout",
          "text": [
            "Accuracy on SVHN Test Set: 92.12891825445605%\n",
            "Accuracy on MNIST Test Set: 63.84%\n"
          ]
        }
      ]
    }
  ]
}