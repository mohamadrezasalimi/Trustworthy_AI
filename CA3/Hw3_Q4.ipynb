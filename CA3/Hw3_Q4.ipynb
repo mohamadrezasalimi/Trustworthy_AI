{
  "nbformat": 4,
  "nbformat_minor": 0,
  "metadata": {
    "colab": {
      "provenance": []
    },
    "kernelspec": {
      "name": "python3",
      "display_name": "Python 3"
    },
    "language_info": {
      "name": "python"
    }
  },
  "cells": [
    {
      "cell_type": "markdown",
      "source": [
        "### Part 1\n"
      ],
      "metadata": {
        "id": "AQuVCErpc3iJ"
      }
    },
    {
      "cell_type": "code",
      "execution_count": null,
      "metadata": {
        "colab": {
          "base_uri": "https://localhost:8080/"
        },
        "id": "KhBMc41BIwyU",
        "outputId": "8e0a4732-e58a-4859-9150-2a0833c447d3"
      },
      "outputs": [
        {
          "output_type": "stream",
          "name": "stdout",
          "text": [
            "                            OLS Regression Results                            \n",
            "==============================================================================\n",
            "Dep. Variable:                      y   R-squared:                       1.000\n",
            "Model:                            OLS   Adj. R-squared:                  1.000\n",
            "Method:                 Least Squares   F-statistic:                 4.105e+30\n",
            "Date:                Sat, 08 Jun 2024   Prob (F-statistic):               0.00\n",
            "Time:                        00:33:46   Log-Likelihood:             1.3899e+05\n",
            "No. Observations:                5000   AIC:                        -2.780e+05\n",
            "Df Residuals:                    4996   BIC:                        -2.779e+05\n",
            "Df Model:                           3                                         \n",
            "Covariance Type:            nonrobust                                         \n",
            "==================================================================================\n",
            "                     coef    std err          t      P>|t|      [0.025      0.975]\n",
            "----------------------------------------------------------------------------------\n",
            "const              0.0577   3.83e-14   1.51e+12      0.000       0.058       0.058\n",
            "insulin         5.718e-15   3.53e-15      1.621      0.105    -1.2e-15    1.26e-14\n",
            "age                1.6409   1.79e-15   9.16e+14      0.000       1.641       1.641\n",
            "blood_pressure     0.6507    2.8e-15   2.33e+14      0.000       0.651       0.651\n",
            "==============================================================================\n",
            "Omnibus:                       29.527   Durbin-Watson:                   0.024\n",
            "Prob(Omnibus):                  0.000   Jarque-Bera (JB):               27.979\n",
            "Skew:                           0.153   Prob(JB):                     8.40e-07\n",
            "Kurtosis:                       2.799   Cond. No.                     1.02e+03\n",
            "==============================================================================\n",
            "\n",
            "Notes:\n",
            "[1] Standard Errors assume that the covariance matrix of the errors is correctly specified.\n",
            "[2] The condition number is large, 1.02e+03. This might indicate that there are\n",
            "strong multicollinearity or other numerical problems.\n"
          ]
        }
      ],
      "source": [
        "import pandas as pd\n",
        "import statsmodels.api as sm\n",
        "\n",
        "file_path = '/content/health.csv'\n",
        "health_data = pd.read_csv(file_path)\n",
        "\n",
        "# Defining variables based on the causal graph structure\n",
        "W = health_data['age']\n",
        "T = health_data['insulin']\n",
        "Z = health_data['blood_pressure']\n",
        "Y = health_data['blood_glucose']\n",
        "\n",
        "# Combining W and Z for use as predictors\n",
        "WZ = pd.concat([W, Z], axis=1)\n",
        "\n",
        "# Adding a constant value for the regression intercept\n",
        "WZ = sm.add_constant(WZ)\n",
        "\n",
        "# Performing regression of Y on W and Z\n",
        "model_Y = sm.OLS(Y, WZ).fit()\n",
        "\n",
        "# Getting the expected value of Y given W and Z\n",
        "E_Y_given_WZ = model_Y.fittedvalues\n",
        "\n",
        "# Performing regression E[Y|W,Z] on T, W, and Z\n",
        "TWZ = pd.concat([T, W, Z], axis=1)\n",
        "TWZ = sm.add_constant(TWZ)\n",
        "\n",
        "model_final = sm.OLS(E_Y_given_WZ, TWZ).fit()\n",
        "\n",
        "# Printing summary of the final model\n",
        "print(model_final.summary())\n"
      ]
    },
    {
      "cell_type": "markdown",
      "source": [
        "### Part 2"
      ],
      "metadata": {
        "id": "w-fI3IIRMUvk"
      }
    },
    {
      "cell_type": "code",
      "source": [
        "# Define the variables based on the new formula\n",
        "# We will ignore blood pressure (Z) this time and focus on age (W) and insulin (T)\n",
        "W = health_data['age']\n",
        "T = health_data['insulin']\n",
        "Y = health_data['blood_glucose']\n",
        "\n",
        "# Combine W into a dataframe to use as predictors\n",
        "W_const = sm.add_constant(W)\n",
        "\n",
        "# Perform the regression of Y on W\n",
        "model_Y = sm.OLS(Y, W_const).fit()\n",
        "\n",
        "# Get the expected value of Y given W\n",
        "E_Y_given_W = model_Y.fittedvalues\n",
        "\n",
        "# Perform the regression of E[Y|W] on T and W\n",
        "TW = pd.concat([T, W], axis=1)\n",
        "TW = sm.add_constant(TW)\n",
        "\n",
        "model_final = sm.OLS(E_Y_given_W, TW).fit()\n",
        "\n",
        "# Print the summary of the final model\n",
        "model_final.summary()\n"
      ],
      "metadata": {
        "colab": {
          "base_uri": "https://localhost:8080/",
          "height": 462
        },
        "id": "WYQxGNveMUYg",
        "outputId": "70723147-159d-438d-b3b4-59d5fca31aff"
      },
      "execution_count": null,
      "outputs": [
        {
          "output_type": "execute_result",
          "data": {
            "text/plain": [
              "<class 'statsmodels.iolib.summary.Summary'>\n",
              "\"\"\"\n",
              "                            OLS Regression Results                            \n",
              "==============================================================================\n",
              "Dep. Variable:                      y   R-squared:                       1.000\n",
              "Model:                            OLS   Adj. R-squared:                  1.000\n",
              "Method:                 Least Squares   F-statistic:                 1.926e+31\n",
              "Date:                Sat, 08 Jun 2024   Prob (F-statistic):               0.00\n",
              "Time:                        00:13:27   Log-Likelihood:             1.4185e+05\n",
              "No. Observations:                5000   AIC:                        -2.837e+05\n",
              "Df Residuals:                    4997   BIC:                        -2.837e+05\n",
              "Df Model:                           2                                         \n",
              "Covariance Type:            nonrobust                                         \n",
              "==============================================================================\n",
              "                 coef    std err          t      P>|t|      [0.025      0.975]\n",
              "------------------------------------------------------------------------------\n",
              "const          0.0080   2.16e-14   3.69e+11      0.000       0.008       0.008\n",
              "insulin     4.996e-16   1.65e-15      0.303      0.762   -2.74e-15    3.74e-15\n",
              "age            2.0579   3.44e-16   5.98e+15      0.000       2.058       2.058\n",
              "==============================================================================\n",
              "Omnibus:                      989.014   Durbin-Watson:                   0.018\n",
              "Prob(Omnibus):                  0.000   Jarque-Bera (JB):             1940.067\n",
              "Skew:                           1.192   Prob(JB):                         0.00\n",
              "Kurtosis:                       4.904   Cond. No.                         862.\n",
              "==============================================================================\n",
              "\n",
              "Notes:\n",
              "[1] Standard Errors assume that the covariance matrix of the errors is correctly specified.\n",
              "\"\"\""
            ],
            "text/html": [
              "<table class=\"simpletable\">\n",
              "<caption>OLS Regression Results</caption>\n",
              "<tr>\n",
              "  <th>Dep. Variable:</th>            <td>y</td>        <th>  R-squared:         </th>  <td>   1.000</td> \n",
              "</tr>\n",
              "<tr>\n",
              "  <th>Model:</th>                   <td>OLS</td>       <th>  Adj. R-squared:    </th>  <td>   1.000</td> \n",
              "</tr>\n",
              "<tr>\n",
              "  <th>Method:</th>             <td>Least Squares</td>  <th>  F-statistic:       </th>  <td>1.926e+31</td>\n",
              "</tr>\n",
              "<tr>\n",
              "  <th>Date:</th>             <td>Sat, 08 Jun 2024</td> <th>  Prob (F-statistic):</th>   <td>  0.00</td>  \n",
              "</tr>\n",
              "<tr>\n",
              "  <th>Time:</th>                 <td>00:13:27</td>     <th>  Log-Likelihood:    </th> <td>1.4185e+05</td>\n",
              "</tr>\n",
              "<tr>\n",
              "  <th>No. Observations:</th>      <td>  5000</td>      <th>  AIC:               </th> <td>-2.837e+05</td>\n",
              "</tr>\n",
              "<tr>\n",
              "  <th>Df Residuals:</th>          <td>  4997</td>      <th>  BIC:               </th> <td>-2.837e+05</td>\n",
              "</tr>\n",
              "<tr>\n",
              "  <th>Df Model:</th>              <td>     2</td>      <th>                     </th>      <td> </td>    \n",
              "</tr>\n",
              "<tr>\n",
              "  <th>Covariance Type:</th>      <td>nonrobust</td>    <th>                     </th>      <td> </td>    \n",
              "</tr>\n",
              "</table>\n",
              "<table class=\"simpletable\">\n",
              "<tr>\n",
              "     <td></td>        <th>coef</th>     <th>std err</th>      <th>t</th>      <th>P>|t|</th>  <th>[0.025</th>    <th>0.975]</th>  \n",
              "</tr>\n",
              "<tr>\n",
              "  <th>const</th>   <td>    0.0080</td> <td> 2.16e-14</td> <td> 3.69e+11</td> <td> 0.000</td> <td>    0.008</td> <td>    0.008</td>\n",
              "</tr>\n",
              "<tr>\n",
              "  <th>insulin</th> <td> 4.996e-16</td> <td> 1.65e-15</td> <td>    0.303</td> <td> 0.762</td> <td>-2.74e-15</td> <td> 3.74e-15</td>\n",
              "</tr>\n",
              "<tr>\n",
              "  <th>age</th>     <td>    2.0579</td> <td> 3.44e-16</td> <td> 5.98e+15</td> <td> 0.000</td> <td>    2.058</td> <td>    2.058</td>\n",
              "</tr>\n",
              "</table>\n",
              "<table class=\"simpletable\">\n",
              "<tr>\n",
              "  <th>Omnibus:</th>       <td>989.014</td> <th>  Durbin-Watson:     </th> <td>   0.018</td>\n",
              "</tr>\n",
              "<tr>\n",
              "  <th>Prob(Omnibus):</th> <td> 0.000</td>  <th>  Jarque-Bera (JB):  </th> <td>1940.067</td>\n",
              "</tr>\n",
              "<tr>\n",
              "  <th>Skew:</th>          <td> 1.192</td>  <th>  Prob(JB):          </th> <td>    0.00</td>\n",
              "</tr>\n",
              "<tr>\n",
              "  <th>Kurtosis:</th>      <td> 4.904</td>  <th>  Cond. No.          </th> <td>    862.</td>\n",
              "</tr>\n",
              "</table><br/><br/>Notes:<br/>[1] Standard Errors assume that the covariance matrix of the errors is correctly specified."
            ],
            "text/latex": "\\begin{center}\n\\begin{tabular}{lclc}\n\\toprule\n\\textbf{Dep. Variable:}    &        y         & \\textbf{  R-squared:         } &     1.000   \\\\\n\\textbf{Model:}            &       OLS        & \\textbf{  Adj. R-squared:    } &     1.000   \\\\\n\\textbf{Method:}           &  Least Squares   & \\textbf{  F-statistic:       } & 1.926e+31   \\\\\n\\textbf{Date:}             & Sat, 08 Jun 2024 & \\textbf{  Prob (F-statistic):} &     0.00    \\\\\n\\textbf{Time:}             &     00:13:27     & \\textbf{  Log-Likelihood:    } & 1.4185e+05  \\\\\n\\textbf{No. Observations:} &        5000      & \\textbf{  AIC:               } & -2.837e+05  \\\\\n\\textbf{Df Residuals:}     &        4997      & \\textbf{  BIC:               } & -2.837e+05  \\\\\n\\textbf{Df Model:}         &           2      & \\textbf{                     } &             \\\\\n\\textbf{Covariance Type:}  &    nonrobust     & \\textbf{                     } &             \\\\\n\\bottomrule\n\\end{tabular}\n\\begin{tabular}{lcccccc}\n                 & \\textbf{coef} & \\textbf{std err} & \\textbf{t} & \\textbf{P$> |$t$|$} & \\textbf{[0.025} & \\textbf{0.975]}  \\\\\n\\midrule\n\\textbf{const}   &       0.0080  &     2.16e-14     &  3.69e+11  &         0.000        &        0.008    &        0.008     \\\\\n\\textbf{insulin} &    4.996e-16  &     1.65e-15     &     0.303  &         0.762        &    -2.74e-15    &     3.74e-15     \\\\\n\\textbf{age}     &       2.0579  &     3.44e-16     &  5.98e+15  &         0.000        &        2.058    &        2.058     \\\\\n\\bottomrule\n\\end{tabular}\n\\begin{tabular}{lclc}\n\\textbf{Omnibus:}       & 989.014 & \\textbf{  Durbin-Watson:     } &    0.018  \\\\\n\\textbf{Prob(Omnibus):} &   0.000 & \\textbf{  Jarque-Bera (JB):  } & 1940.067  \\\\\n\\textbf{Skew:}          &   1.192 & \\textbf{  Prob(JB):          } &     0.00  \\\\\n\\textbf{Kurtosis:}      &   4.904 & \\textbf{  Cond. No.          } &     862.  \\\\\n\\bottomrule\n\\end{tabular}\n%\\caption{OLS Regression Results}\n\\end{center}\n\nNotes: \\newline\n [1] Standard Errors assume that the covariance matrix of the errors is correctly specified."
          },
          "metadata": {},
          "execution_count": 3
        }
      ]
    },
    {
      "cell_type": "code",
      "source": [
        "import pandas as pd\n",
        "import statsmodels.api as sm\n",
        "\n",
        "\n",
        "# Define the variables\n",
        "T = health_data['insulin']\n",
        "Y = health_data['blood_glucose']\n",
        "\n",
        "# Add a constant term for the regression intercept\n",
        "T_const = sm.add_constant(T)\n",
        "\n",
        "# Perform the regression of Y on T\n",
        "model_Y_T = sm.OLS(Y, T_const).fit()\n",
        "\n",
        "# Print the summary of the model\n",
        "print(model_Y_T.summary())\n"
      ],
      "metadata": {
        "id": "hXwfIw-BbzzO",
        "outputId": "c445e6d8-c881-47b5-ad30-496c1392ae88",
        "colab": {
          "base_uri": "https://localhost:8080/"
        }
      },
      "execution_count": null,
      "outputs": [
        {
          "output_type": "stream",
          "name": "stdout",
          "text": [
            "                            OLS Regression Results                            \n",
            "==============================================================================\n",
            "Dep. Variable:          blood_glucose   R-squared:                       0.132\n",
            "Model:                            OLS   Adj. R-squared:                  0.132\n",
            "Method:                 Least Squares   F-statistic:                     758.9\n",
            "Date:                Sat, 08 Jun 2024   Prob (F-statistic):          1.20e-155\n",
            "Time:                        01:21:07   Log-Likelihood:                -18373.\n",
            "No. Observations:                5000   AIC:                         3.675e+04\n",
            "Df Residuals:                    4998   BIC:                         3.676e+04\n",
            "Df Model:                           1                                         \n",
            "Covariance Type:            nonrobust                                         \n",
            "==============================================================================\n",
            "                 coef    std err          t      P>|t|      [0.025      0.975]\n",
            "------------------------------------------------------------------------------\n",
            "const        120.6484      0.490    246.259      0.000     119.688     121.609\n",
            "insulin        3.6191      0.131     27.547      0.000       3.362       3.877\n",
            "==============================================================================\n",
            "Omnibus:                        1.973   Durbin-Watson:                   1.975\n",
            "Prob(Omnibus):                  0.373   Jarque-Bera (JB):                1.991\n",
            "Skew:                           0.033   Prob(JB):                        0.369\n",
            "Kurtosis:                       2.927   Cond. No.                         14.4\n",
            "==============================================================================\n",
            "\n",
            "Notes:\n",
            "[1] Standard Errors assume that the covariance matrix of the errors is correctly specified.\n"
          ]
        }
      ]
    }
  ]
}