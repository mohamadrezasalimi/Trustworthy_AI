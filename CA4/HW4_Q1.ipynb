{
  "nbformat": 4,
  "nbformat_minor": 0,
  "metadata": {
    "colab": {
      "provenance": [],
      "gpuType": "T4"
    },
    "kernelspec": {
      "name": "python3",
      "display_name": "Python 3"
    },
    "language_info": {
      "name": "python"
    },
    "accelerator": "GPU"
  },
  "cells": [
    {
      "cell_type": "code",
      "source": [
        "import torch\n",
        "import torch.nn as nn\n",
        "import torch.optim as optim\n",
        "from torchvision import datasets, transforms\n",
        "from torch.utils.data import DataLoader\n",
        "import numpy as np\n",
        "import matplotlib.pyplot as plt\n",
        "from torch.utils.data import DataLoader, TensorDataset\n",
        "import random"
      ],
      "metadata": {
        "id": "sXtN5qE7T_Nu"
      },
      "execution_count": null,
      "outputs": []
    },
    {
      "cell_type": "markdown",
      "source": [
        "### Define the Convolutional Model\n"
      ],
      "metadata": {
        "id": "yd9Rc7e_yBXD"
      }
    },
    {
      "cell_type": "code",
      "source": [
        "class BackdoorModel(nn.Module):\n",
        "    def __init__(self):\n",
        "        super(BackdoorModel, self).__init__()\n",
        "        self.conv1 = nn.Sequential(\n",
        "            nn.Conv2d(1, 16, kernel_size=5, stride=1, padding=0),\n",
        "            nn.ReLU(),\n",
        "            nn.AvgPool2d(kernel_size=2, stride=2, padding=0)\n",
        "        )\n",
        "        self.conv2 = nn.Sequential(\n",
        "            nn.Conv2d(16, 32, kernel_size=5, stride=1, padding=0),\n",
        "            nn.ReLU(),\n",
        "            nn.AvgPool2d(kernel_size=2, stride=2, padding=0)\n",
        "        )\n",
        "        self.fc1 = nn.Sequential(\n",
        "            nn.Linear(512, 512, bias=True),\n",
        "            nn.ReLU()\n",
        "        )\n",
        "        self.fc2 = nn.Sequential(\n",
        "            nn.Linear(512, 10, bias=True),\n",
        "            nn.Softmax(dim=1)\n",
        "        )\n",
        "        self.dropout = nn.Dropout(p=0.5, inplace=False)\n",
        "\n",
        "    def forward(self, x):\n",
        "        x = self.conv1(x)\n",
        "        x = self.conv2(x)\n",
        "        x = x.view(-1, 512)\n",
        "        x = self.fc1(x)\n",
        "        x = self.dropout(x)\n",
        "        x = self.fc2(x)\n",
        "        return x\n",
        "\n",
        "# Load the poisoned model\n",
        "model_path = '/content/poisened_model_9.pth'\n",
        "model = BackdoorModel()\n",
        "model.load_state_dict(torch.load(model_path))\n",
        "model.eval()"
      ],
      "metadata": {
        "id": "l4K7Wx_nlfBy"
      },
      "execution_count": null,
      "outputs": []
    },
    {
      "cell_type": "code",
      "source": [
        "# Load the MNIST dataset with normalization\n",
        "transform = transforms.Compose([transforms.ToTensor(), transforms.Normalize((0.1307,), (0.3081,))])\n",
        "test_dataset = datasets.MNIST(root='./data', train=False, transform=transform, download=True)\n",
        "test_loader = DataLoader(test_dataset, batch_size=64, shuffle=False)\n"
      ],
      "metadata": {
        "id": "rSNHFYFlle_M"
      },
      "execution_count": null,
      "outputs": []
    },
    {
      "cell_type": "markdown",
      "source": [
        "### زیربخش اول – بازسازی  تریگر صورت مهندسی معکوس"
      ],
      "metadata": {
        "id": "entwSIKcyHs5"
      }
    },
    {
      "cell_type": "code",
      "source": [
        "# Function to apply the trigger\n",
        "def apply_trigger(image, trigger, mask):\n",
        "    return image * (1 - mask) + trigger * mask\n",
        "\n",
        "# Define the optimization process to reconstruct the trigger for all labels\n",
        "def reconstruct_trigger(model, target_label, data_loader, device='cuda'):\n",
        "    trigger = torch.zeros((1, 28, 28), device=device, requires_grad=True)\n",
        "    mask = torch.zeros((1, 28, 28), device=device, requires_grad=True)\n",
        "    optimizer = optim.Adam([trigger, mask], lr=0.001)\n",
        "    criterion = nn.CrossEntropyLoss()\n",
        "    lambda_param = 0.1  # Penalty parameter lambda\n",
        "\n",
        "\n",
        "    for epoch in range(100):\n",
        "        for images, _ in data_loader:\n",
        "            images = images.to(device)\n",
        "            batch_size = images.size(0)\n",
        "            labels = torch.full((batch_size,), target_label, dtype=torch.long, device=device)\n",
        "\n",
        "            adversarial_images = apply_trigger(images, trigger, mask)\n",
        "            outputs = model(adversarial_images)\n",
        "            loss = criterion(outputs, labels) + torch.norm(mask, p=1)\n",
        "\n",
        "            optimizer.zero_grad()\n",
        "            loss.backward()\n",
        "            optimizer.step()\n",
        "\n",
        "            trigger.data.clamp_(0, 1)\n",
        "            mask.data.clamp_(0, 1)\n",
        "\n",
        "    return trigger.detach().cpu().numpy(), mask.detach().cpu().numpy()\n",
        "\n",
        "# Reconstruct and display the triggers for all labels\n",
        "device = torch.device('cuda' if torch.cuda.is_available() else 'cpu')\n",
        "model.to(device)\n",
        "\n",
        "triggers = []\n",
        "masks = []\n",
        "for label in range(10):\n",
        "    trigger, mask = reconstruct_trigger(model, label, test_loader, device)\n",
        "    triggers.append(trigger)\n",
        "    masks.append(mask)\n",
        "\n",
        "# Display the triggers and masks\n",
        "fig, axes = plt.subplots(2, 10, figsize=(15, 3))\n",
        "for i in range(10):\n",
        "    axes[0, i].imshow(triggers[i][0], cmap='gray')\n",
        "    axes[0, i].set_title(f'Trigger {i}')\n",
        "    axes[0, i].axis('off')\n",
        "    axes[1, i].imshow(masks[i][0], cmap='gray')\n",
        "    axes[1, i].set_title(f'Mask {i}')\n",
        "    axes[1, i].axis('off')\n",
        "plt.show()\n"
      ],
      "metadata": {
        "colab": {
          "base_uri": "https://localhost:8080/",
          "height": 283
        },
        "id": "vUI1Da07W483",
        "outputId": "5cbf324d-f989-4273-fce2-044c82205b21"
      },
      "execution_count": 3,
      "outputs": [
        {
          "output_type": "display_data",
          "data": {
            "text/plain": [
              "<Figure size 1500x300 with 20 Axes>"
            ],
            "image/png": "[encoded data removed]"
          },
          "metadata": {}
        }
      ]
    },
    {
      "cell_type": "code",
      "source": [
        "# Function to apply the trigger\n",
        "def apply_trigger(image, trigger, mask):\n",
        "    return image * (1 - mask) + trigger * mask\n",
        "\n",
        "# Define the optimization process to reconstruct the trigger for label 9\n",
        "def reconstruct_trigger(model, target_label, data_loader, device='cuda'):\n",
        "    trigger = torch.zeros((1, 28, 28), device=device, requires_grad=True)\n",
        "    mask = torch.zeros((1, 28, 28), device=device, requires_grad=True)\n",
        "    optimizer = optim.Adam([trigger, mask], lr=0.001)\n",
        "    criterion = nn.CrossEntropyLoss()\n",
        "    lambda_param = 0.1  # Penalty parameter lambda\n",
        "\n",
        "    for epoch in range(100):\n",
        "        for images, _ in data_loader:\n",
        "            images = images.to(device)\n",
        "            batch_size = images.size(0)\n",
        "            labels = torch.full((batch_size,), target_label, dtype=torch.long, device=device)\n",
        "\n",
        "            adversarial_images = apply_trigger(images, trigger, mask)\n",
        "            outputs = model(adversarial_images)\n",
        "            loss = criterion(outputs, labels) + torch.norm(mask, p=1)\n",
        "\n",
        "            optimizer.zero_grad()\n",
        "            loss.backward()\n",
        "            optimizer.step()\n",
        "\n",
        "            trigger.data.clamp_(0, 1)\n",
        "            mask.data.clamp_(0, 1)\n",
        "\n",
        "    return trigger.detach().cpu().numpy(), mask.detach().cpu().numpy()\n",
        "\n",
        "# Reconstruct and display the trigger for label 9\n",
        "device = torch.device('cuda' if torch.cuda.is_available() else 'cpu')\n",
        "model.to(device)\n",
        "\n",
        "trigger, mask = reconstruct_trigger(model, 9, test_loader, device)\n",
        "\n",
        "# Display the trigger and mask\n",
        "fig, axes = plt.subplots(1, 2, figsize=(8, 4))\n",
        "axes[0].imshow(trigger[0], cmap='gray')\n",
        "axes[0].set_title('Trigger for Label 9')\n",
        "axes[0].axis('off')\n",
        "axes[1].imshow(mask[0], cmap='gray')\n",
        "axes[1].set_title('Mask for Label 9')\n",
        "axes[1].axis('off')\n",
        "plt.show()\n"
      ],
      "metadata": {
        "colab": {
          "base_uri": "https://localhost:8080/",
          "height": 341
        },
        "id": "FWGDlvlPT_LQ",
        "outputId": "68318824-eb0c-462a-a554-206dd0089d9b"
      },
      "execution_count": 2,
      "outputs": [
        {
          "output_type": "display_data",
          "data": {
            "text/plain": [
              "<Figure size 800x400 with 2 Axes>"
            ],
            "image/png": "[encoded data removed]"
          },
          "metadata": {}
        }
      ]
    },
    {
      "cell_type": "markdown",
      "source": [
        "### Part 2 (MAD)"
      ],
      "metadata": {
        "id": "oluUMs4MwdvO"
      }
    },
    {
      "cell_type": "markdown",
      "source": [
        "### زیربخش دوم – شناسایی برچسب مورد حمله قرار گرفته"
      ],
      "metadata": {
        "id": "6d6gRaSuw0vy"
      }
    },
    {
      "cell_type": "code",
      "source": [
        "# Function to apply the trigger\n",
        "def apply_trigger(image, trigger, mask):\n",
        "    return image * (1 - mask) + trigger * mask\n",
        "\n",
        "# Define the optimization process to reconstruct the trigger\n",
        "def reconstruct_trigger(model, target_label, data_loader, device='cuda'):\n",
        "    trigger = torch.zeros((1, 28, 28), device=device, requires_grad=True)\n",
        "    mask = torch.zeros((1, 28, 28), device=device, requires_grad=True)\n",
        "    optimizer = optim.Adam([trigger, mask], lr=0.001)  # Changed learning rate\n",
        "    criterion = nn.CrossEntropyLoss()\n",
        "    lambda_param = 0.5\n",
        "\n",
        "    for epoch in range(100):\n",
        "        for images, _ in data_loader:\n",
        "            images = images.to(device)\n",
        "            batch_size = images.size(0)\n",
        "            labels = torch.full((batch_size,), target_label, dtype=torch.long, device=device)\n",
        "\n",
        "            adversarial_images = apply_trigger(images, trigger, mask)\n",
        "            outputs = model(adversarial_images)\n",
        "            loss = criterion(outputs, labels) + lambda_param * torch.norm(mask, p=1)\n",
        "\n",
        "            optimizer.zero_grad()\n",
        "            loss.backward()\n",
        "            optimizer.step()\n",
        "\n",
        "            trigger.data.clamp_(0, 1)\n",
        "            mask.data.clamp_(0, 1)\n",
        "\n",
        "    return trigger.detach().cpu().numpy(), mask.detach().cpu().numpy()\n",
        "\n",
        "# Function to detect outliers using MAD\n",
        "def mad_based_outlier(points, thresh=2.):\n",
        "    if len(points.shape) == 1:\n",
        "        points = points[:, None]\n",
        "    median = np.median(points, axis=0)\n",
        "    diff = np.sum((points - median)**2, axis=-1)\n",
        "    diff = np.sqrt(diff)\n",
        "    med_abs_deviation = np.median(diff)\n",
        "\n",
        "    modified_z_score = 0.6745 * diff / med_abs_deviation\n",
        "\n",
        "    return modified_z_score > thresh\n",
        "\n",
        "# Reconstruct triggers and masks for all labels and collect L1 norms\n",
        "device = torch.device('cuda' if torch.cuda.is_available() else 'cpu')\n",
        "model.to(device)\n",
        "\n",
        "triggers = []\n",
        "masks = []\n",
        "trigger_norms = []\n",
        "\n",
        "for label in range(10):\n",
        "    trigger, mask = reconstruct_trigger(model, label, test_loader, device)\n",
        "    triggers.append(trigger)\n",
        "    masks.append(mask)\n",
        "    l1_norm = np.sum(np.abs(mask))\n",
        "    trigger_norms.append(l1_norm)\n",
        "\n",
        "trigger_norms = np.array(trigger_norms)\n",
        "\n",
        "# Apply MAD method to find the infected label\n",
        "outliers = mad_based_outlier(trigger_norms)\n",
        "\n",
        "# Identify the infected label\n",
        "infected_label = np.where(outliers)[0]\n",
        "print(f\"Infected Label: {infected_label[0]}\")\n",
        "\n",
        "# Display trigger and mask for the infected label\n",
        "fig, axes = plt.subplots(1, 2, figsize=(8, 4))\n",
        "axes[0].imshow(triggers[infected_label[0]][0], cmap='gray')\n",
        "axes[0].set_title(f'Trigger for Label {infected_label[0]}')\n",
        "axes[0].axis('off')\n",
        "axes[1].imshow(masks[infected_label[0]][0], cmap='gray')\n",
        "axes[1].set_title(f'Mask for Label {infected_label[0]}')\n",
        "axes[1].axis('off')\n",
        "plt.show()\n"
      ],
      "metadata": {
        "colab": {
          "base_uri": "https://localhost:8080/",
          "height": 342
        },
        "id": "zZIk1BpCuSX5",
        "outputId": "d76856a8-10fc-48db-d45b-5eba59bae6bb"
      },
      "execution_count": 15,
      "outputs": [
        {
          "output_type": "stream",
          "name": "stdout",
          "text": [
            "Infected Label: 9\n"
          ]
        },
        {
          "output_type": "display_data",
          "data": {
            "text/plain": [
              "<Figure size 800x400 with 2 Axes>"
            ],
            "image/png": "[encoded data removed]"
          },
          "metadata": {}
        }
      ]
    },
    {
      "cell_type": "markdown",
      "source": [
        "### بخش دوم – پاکسازی مدل و کاهش اثر حمله"
      ],
      "metadata": {
        "id": "fpHHMk_-wvIh"
      }
    },
    {
      "cell_type": "code",
      "source": [
        "transform = transforms.Compose([transforms.ToTensor()])\n",
        "test_dataset = datasets.MNIST(root='./data', train=False, transform=transform, download=True)\n",
        "test_loader = DataLoader(test_dataset, batch_size=64, shuffle=False)\n",
        "\n",
        "# Function to apply the trigger\n",
        "def apply_trigger(image, trigger, mask):\n",
        "    # Ensure all tensors are on the same device\n",
        "    image = image.to(trigger.device)\n",
        "    mask = mask.to(trigger.device)\n",
        "\n",
        "    # Apply trigger to the image\n",
        "    return image * (1 - mask) + trigger * mask\n",
        "\n",
        "# Function to apply trigger to a percentage of the dataset\n",
        "def apply_trigger_to_dataset(dataset, trigger, mask, target_label, percentage=0.2):\n",
        "    triggered_images = []\n",
        "    triggered_labels = []\n",
        "    total_samples = len(dataset)\n",
        "    num_triggered_samples = int(total_samples * percentage)\n",
        "    indices = random.sample(range(total_samples), num_triggered_samples)\n",
        "\n",
        "    for i, (image, label) in enumerate(dataset):\n",
        "        image = image.to(trigger.device)\n",
        "        if i in indices:\n",
        "            triggered_image = apply_trigger(image.unsqueeze(0), trigger, mask).squeeze(0)\n",
        "            triggered_images.append(triggered_image)\n",
        "            triggered_labels.append(target_label)\n",
        "        else:\n",
        "            triggered_images.append(image)\n",
        "            triggered_labels.append(label)\n",
        "\n",
        "    return TensorDataset(torch.stack(triggered_images), torch.tensor(triggered_labels).to(trigger.device))\n",
        "\n",
        "# Prepare dataset with reconstructed trigger\n",
        "trigger_tensor = torch.tensor(trigger).to(device)\n",
        "mask_tensor = torch.tensor(mask).to(device)\n",
        "\n",
        "triggered_test_dataset = apply_trigger_to_dataset(test_dataset, trigger_tensor, mask_tensor, 9)\n",
        "triggered_test_loader = DataLoader(triggered_test_dataset, batch_size=64, shuffle=False)\n",
        "\n",
        "# Function to train the model\n",
        "def train_model(model, dataloader, epochs=1, lr=0.001):\n",
        "    model.train()\n",
        "    optimizer = optim.Adam(model.parameters(), lr=lr)\n",
        "    criterion = nn.CrossEntropyLoss()\n",
        "\n",
        "    for epoch in range(epochs):\n",
        "        for images, labels in dataloader:\n",
        "            images, labels = images.to(device), labels.to(device)\n",
        "\n",
        "            optimizer.zero_grad()\n",
        "            outputs = model(images)\n",
        "            loss = criterion(outputs, labels)\n",
        "            loss.backward()\n",
        "            optimizer.step()\n",
        "\n",
        "# Retrain the model using clean and triggered dataset\n",
        "train_model(model, triggered_test_loader, epochs=1)\n",
        "\n",
        "# Function to evaluate the model\n",
        "def evaluate_model(model, dataloader, target_label=None):\n",
        "    model.eval()\n",
        "    correct = 0\n",
        "    total = 0\n",
        "    targeted_attacks = 0\n",
        "    successful_attacks = 0\n",
        "\n",
        "    with torch.no_grad():\n",
        "        for images, labels in dataloader:\n",
        "            images, labels = images.to(device), labels.to(device)\n",
        "            outputs = model(images)\n",
        "            _, predicted = torch.max(outputs.data, 1)\n",
        "            total += labels.size(0)\n",
        "            correct += (predicted == labels).sum().item()\n",
        "\n",
        "            if target_label is not None:\n",
        "                targeted_attacks += (labels == target_label).sum().item()\n",
        "                successful_attacks += ((predicted == target_label) & (labels == target_label)).sum().item()\n",
        "\n",
        "    accuracy = 100 * correct / total\n",
        "    attack_success_rate = 100 * successful_attacks / targeted_attacks if targeted_attacks > 0 else 0\n",
        "\n",
        "    return accuracy, attack_success_rate\n",
        "\n",
        "# Evaluate the cleaned model\n",
        "clean_accuracy, clean_attack_success_rate = evaluate_model(model, test_loader, target_label=9)\n",
        "triggered_accuracy, triggered_attack_success_rate = evaluate_model(model, triggered_test_loader, target_label=9)\n",
        "\n",
        "print(f\"Cleaned Model Accuracy: {clean_accuracy:.2f}%\")\n",
        "print(f\"Cleaned Model Attack Success Rate: {clean_attack_success_rate:.2f}%\")\n",
        "\n",
        "print(f\"Infected Model Accuracy: {triggered_accuracy:.2f}%\")\n",
        "print(f\"Infected Model Attack Success Rate: {triggered_attack_success_rate:.2f}%\")"
      ],
      "metadata": {
        "colab": {
          "base_uri": "https://localhost:8080/"
        },
        "id": "0QfiPpFCiTjM",
        "outputId": "bdf21e25-5239-424f-a55b-7ba7427e0c1b"
      },
      "execution_count": 6,
      "outputs": [
        {
          "output_type": "stream",
          "name": "stdout",
          "text": [
            "Cleaned Model Accuracy: 93.47%\n",
            "Cleaned Model Attack Success Rate: 98.22%\n",
            "Infected Model Accuracy: 77.51%\n",
            "Infected Model Attack Success Rate: 37.73%\n"
          ]
        }
      ]
    }
  ]
}